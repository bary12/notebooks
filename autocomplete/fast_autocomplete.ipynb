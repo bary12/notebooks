{
 "cells": [
  {
   "cell_type": "code",
   "execution_count": 9,
   "id": "4aabd674",
   "metadata": {},
   "outputs": [],
   "source": [
    "import requests\n",
    "import os\n",
    "\n",
    "books = [\n",
    "    \"https://raw.githubusercontent.com/formcept/whiteboard/master/nbviewer/notebooks/data/harrypotter/Book%201%20-%20The%20Philosopher's%20Stone.txt\",\n",
    "    \"https://raw.githubusercontent.com/formcept/whiteboard/master/nbviewer/notebooks/data/harrypotter/Book%202%20-%20The%20Chamber%20of%20Secrets.txt\",\n",
    "    \"https://raw.githubusercontent.com/formcept/whiteboard/master/nbviewer/notebooks/data/harrypotter/Book%203%20-%20The%20Prisoner%20of%20Azkaban.txt\",\n",
    "    \"https://raw.githubusercontent.com/formcept/whiteboard/master/nbviewer/notebooks/data/harrypotter/Book%204%20-%20The%20Goblet%20of%20Fire.txt\",\n",
    "    \"https://raw.githubusercontent.com/formcept/whiteboard/master/nbviewer/notebooks/data/harrypotter/Book%205%20-%20The%20Order%20of%20the%20Phoenix.txt\",\n",
    "    \"https://raw.githubusercontent.com/formcept/whiteboard/master/nbviewer/notebooks/data/harrypotter/Book%206%20-%20The%20Half%20Blood%20Prince.txt\",\n",
    "    \"https://raw.githubusercontent.com/formcept/whiteboard/master/nbviewer/notebooks/data/harrypotter/Book%207%20-%20The%20Deathly%20Hallows.txt\"\n",
    "]\n",
    "\n",
    "if not os.path.exists('books'):\n",
    "    os.makedirs('books')\n",
    "\n",
    "for i, book in enumerate(books):\n",
    "    with open(f'books/book_{i}.txt', 'w+') as book_file:\n",
    "        book_file.write(requests.get(book).text)\n",
    "\n"
   ]
  },
  {
   "cell_type": "code",
   "execution_count": 10,
   "id": "0b172a0f",
   "metadata": {},
   "outputs": [],
   "source": [
    "import re\n",
    "import json\n",
    "import glob\n",
    "from collections import Counter\n",
    "\n",
    "\n",
    "words_counter = Counter()\n",
    "paragraphs = []\n",
    "\n",
    "for i, book in enumerate(sorted(glob.glob('books/*.txt'))):\n",
    "    with open(book, 'r') as book_file:\n",
    "        text = book_file.read().lower()\n",
    "        text = re.sub(r'^[Pp]age.*?$', '', text, flags=re.MULTILINE)\n",
    "        text = re.sub(r'\\s+', ' ', text)\n",
    "        text = text.replace('’', \"'\")\n",
    "        text = text.replace(\"'s\", '')\n",
    "        \n",
    "        # remove all non-alphanumeric characters\n",
    "        text = re.sub(r\"[^a-zA-Z0-9\\s]\", '', text)\n",
    "        \n",
    "        words_counter.update(text.split(' '))\n",
    "        \n",
    "\n",
    "words = {word: [{}, word, count] for word, count in words_counter.items() if len(word) > 1 and count > 10}\n",
    "words_copy = words.copy()\n",
    "for word in words.keys():\n",
    "    if word.endswith('s'):\n",
    "        del words_copy[word]\n",
    "\n",
    "words = words_copy\n",
    "\n",
    "with open('hp-words.json', 'w+') as words_file:\n",
    "    words_file.write(json.dumps(words))\n",
    "\n",
    "\n",
    "paragraphs = []\n",
    "for i, book in enumerate(glob.glob('books/*.txt')):\n",
    "    with open(book, 'r') as book_file:\n",
    "        text = book_file.read().lower()\n",
    "        text = re.sub(r'^[Pp]age.*?$', '', text, flags=re.MULTILINE)\n",
    "        paragraphs.extend(re.split(r'\\n\\s*\\n', text))\n",
    "paragraphs = [p for p in paragraphs if len(p) > 50]\n",
    "paragraphs = [p.replace('\\n', '') for p in paragraphs]\n"
   ]
  },
  {
   "cell_type": "code",
   "execution_count": 11,
   "id": "45929d65",
   "metadata": {},
   "outputs": [],
   "source": [
    "from sentence_transformers import SentenceTransformer, util\n",
    "\n",
    "model = SentenceTransformer('multi-qa-MiniLM-L6-cos-v1')\n",
    "model = model.to('cuda')"
   ]
  },
  {
   "cell_type": "code",
   "execution_count": 12,
   "id": "655ce13c",
   "metadata": {},
   "outputs": [
    {
     "data": {
      "application/vnd.jupyter.widget-view+json": {
       "model_id": "3191acdbf1a2427fb04c5cd08d5ca8a2",
       "version_major": 2,
       "version_minor": 0
      },
      "text/plain": [
       "Batches:   0%|          | 0/1051 [00:00<?, ?it/s]"
      ]
     },
     "metadata": {},
     "output_type": "display_data"
    }
   ],
   "source": [
    "corpus_embeddings = model.encode(paragraphs, show_progress_bar=True)"
   ]
  },
  {
   "cell_type": "code",
   "execution_count": 13,
   "id": "3ab57c01",
   "metadata": {},
   "outputs": [],
   "source": [
    "model = model.to('cpu')\n"
   ]
  },
  {
   "cell_type": "code",
   "execution_count": 99,
   "id": "a011b743",
   "metadata": {},
   "outputs": [],
   "source": [
    "from transformers import BartTokenizerFast, BartForConditionalGeneration\n",
    "from transformers import T5Tokenizer, T5ForConditionalGeneration\n",
    "from transformers.models.bart.modeling_bart import shift_tokens_right\n",
    "import torch\n",
    "import datetime\n",
    "import transformers\n",
    "transformers.logging.set_verbosity_error()\n",
    "\n",
    "bart_tokenizer = BartTokenizerFast.from_pretrained('~/models/bart-fine-tuned-msmarco-with-context-1.65')\n",
    "bart_model = BartForConditionalGeneration.from_pretrained('~/models/bart-fine-tuned-msmarco-with-context-1.65').cuda()\n",
    "# bart_tokenizer = T5Tokenizer.from_pretrained('t5-small')\n",
    "# bart_model = T5ForConditionalGeneration.from_pretrained('~/models/t5-autocomplete').cpu()\n",
    "# from optimum.bettertransformer import BetterTransformer\n",
    "# bart_model = BetterTransformer.transform(bart_model, keep_original_model=False)\n",
    "\n",
    "all_tokens = list(bart_tokenizer.get_vocab().values())\n",
    "\n",
    "def do_autocomplete(query):\n",
    "    t = datetime.datetime.now()\n",
    "    if query == '':\n",
    "        return []\n",
    "    encoded_query = model.encode([query])\n",
    "    k=20\n",
    "    knn = util.semantic_search(encoded_query, corpus_embeddings, top_k=k)[0]\n",
    "    knn = [paragraphs[hit['corpus_id']] for hit in knn]\n",
    "    # prompt = f'{query}<mask>#{\";\".join(knn)}'\n",
    "    prompt = f'{query}<mask>#{\"; \".join(knn)}'\n",
    "\n",
    "    tokenized = \\\n",
    "        bart_tokenizer(prompt, return_tensors='pt', max_length=1024, truncation=True)\n",
    "    output = bart_model.generate(\n",
    "        input_ids=tokenized['input_ids'].cuda(),\n",
    "        attention_mask=tokenized['attention_mask'].cuda(),\n",
    "        early_stopping=True,\n",
    "        num_beams=1,\n",
    "        num_return_sequences=1,\n",
    "        length_penalty=4.0\n",
    "        )\n",
    "    results = [bart_tokenizer.decode(o, skip_special_tokens=True) for o in output]\n",
    "    return {'results': results, 'knn': knn, 'time': (datetime.datetime.now() - t).total_seconds()}\n"
   ]
  },
  {
   "cell_type": "code",
   "execution_count": 103,
   "id": "734d7ba6",
   "metadata": {},
   "outputs": [
    {
     "name": "stdout",
     "output_type": "stream",
     "text": [
      "query:  why did Dudley\n",
      "suggestions:  {'results': ['why did Dudley get a new job'], 'knn': ['he looked so dangerous with half his mustache missing that no one dared argue. ten minutes later they had wrenched their way through the boarded-up doors and were in the car, speeding toward the highway. dudley was sniffling in the back seat; his father had hit him round the head for holding them up while he tried to pack his television, vcr, and computer in his sports bag. ', 'on the last day of august he thought he’d better speak to his aunt and uncle about getting to king’s cross station the next day, so he went down to the living room where they were watching a quiz show on television. he cleared his throat to let them know he was there, and dudley screamed and ran from the room. ', 'this boy was another good reason for keeping the potters away; they didn’t want dudley mixing with a child like that. ', 'but dudley either could not or would not move. he was still on the ground, trembling and ashen-faced, his mouth shut very tight. ', 'while dudley lolled around watching and eating ice cream, harry cleaned the windows, washed the car, mowed the lawn, trimmed the flowerbeds, pruned and watered the roses, and repainted the garden bench. the sun blazed overhead, burning the back of his neck. harry knew he shouldn’t have risen to dudley’s bait, but dudley had said the very thing harry had been thinking himself ... maybe he didn’t have any friends at hogwarts. ... ', 'he was starting to feel definitely sick now. he remembered being picked for teams during gym at his old school. he had always been last to be chosen, not because he was no good, but because no one wanted dudley to think they liked him. ', 'dudley came waddling toward them as fast as he could. ', 'it seemed that dudley was struggling with concepts too difficult to put into words. after several moments of apparently painful internal struggle he said, “but where’s he going to go?” ', 'he knew that the battle was won. if dudley was frightened enough to accept the order’s help, his parents would accompany him: there could be no question of being separated from their diddykins. harry glanced at the carriage clock on the mantelpiece. ', 'dudley stumbled backward at once, a look of panic on his fat face. ', 'dudley was as vast as ever, but a year’s hard dieting and the discovery of a new talent had wrought quite a change in his physique. as uncle vernon delightedly told anyone who would listen, dudley had recently become the junior heavyweight inter-school boxing champion of the southeast. “the noble sport,” as uncle vernon called it, had made dudley even more formidable than he had seemed to harry in the primary school days when he had served as dudley’s first punching bag. harry was not remotely afraid of his cousin anymore but he still didn’t think that dudley learning to punch harder and more accurately was cause for celebration. neighborhood children all around were terrified of him — even more terrified than they were of “that potter boy,” who, they had been warned, was a hardened hooligan who attended st. brutus’s secure center for incurably criminal boys. ', 'his life, he wouldn’t be with dudley. dudley had been accepted at uncle vernon’s old private school, smeltings. piers polkiss was going there too. harry, on the other hand, was going to stonewall high, the local public school. dudley thought this was very funny. ', 'dudley began to cry loudly. in fact, he wasn’t really crying — it had been years since he’d really cried — but he knew that if he screwed up his face and wailed, his mother would give him anything he wanted. ', '“watching the news ...” he said scathingly. “i’d like to know what he’s really up to. as if a normal boy cares what’s on the news — dudley hasn’t got a clue what’s going on, doubt he knows who the prime minister is! anyway, it’s not as if there ’d be anything about his lot on our news — ” ', 'harry was glad school was over, but there was no escaping dudley’s gang, who visited the house every single day. piers, dennis, malcolm, and gordon were all big and stupid, but as dudley was the biggest and stupidest of the lot, he was the leader. the rest of them were all quite happy to join in dudley’s favorite sport: harry hunting. ', 'but dudley didn’t seem able to speak. hands still clamped over his buttocks, he waddled as fast as he could into the kitchen. harry hurried into the living room. ', 'things are the same as usual here. dudley’s diet isn’t going too well. my aunt found him smuggling doughnuts into his room yesterday. they told him they ’d have to cut his pocket money if he keeps doing it, so he got really angry and chucked his playstation out of the window. that’s a sort of computer thing you can play games on. bit stupid really, now he hasn’t even got mega-mutilation part three to take his mind off things. ', 'there was a horrible squealing yell, and dudley’s footsteps stopped. at the same moment, harry felt a creeping chill behind him that could mean only one thing. there was more than one. ', 'if dudley’s friends saw him sitting here, they would be sure to make a beeline for him, and what would dudley do then? he wouldn’t want to lose face in front of the gang, but he’d be terrified of provoking harry. . . it would be really fun to watch dudley’s dilemma; to taunt him, watch him, with him powerless to respond . . . and if any of the others tried hitting harry, harry was ready — he had his wand . . . let them try ... he’d love to vent some of his ', 'they stared at each other, seeming to have forgotten that harry and dudley were still in the room. dudley wasn’t used to being ignored. he gave his father a sharp tap on the head with his smelting stick. '], 'time': 0.084438}\n"
     ]
    }
   ],
   "source": [
    "query = 'why did Dudley'\n",
    "\n",
    "\n",
    "suggestions = do_autocomplete(query)\n",
    "print('query: ', query)\n",
    "print('suggestions: ', suggestions)\n"
   ]
  },
  {
   "cell_type": "code",
   "execution_count": 66,
   "id": "a9b099d5",
   "metadata": {},
   "outputs": [],
   "source": [
    "index = '''\n",
    "<!DOCTYPE html>\n",
    "<html>\n",
    "<head>|\n",
    "    <meta charset='utf-8'>\n",
    "    <meta http-equiv='X-UA-Compatible' content='IE=edge'>\n",
    "    <title>Page Title</title>\n",
    "    <meta name='viewport' content='width=device-width, initial-scale=1'>\n",
    "    <script>\n",
    "        let timeout = null;\n",
    "        async function complete() {\n",
    "            document.getElementById('completion').innerHTML = '';\n",
    "            if (timeout !== null) {\n",
    "                clearTimeout(timeout);\n",
    "            }\n",
    "            timeout = setTimeout(async () => {\n",
    "                let query = document.getElementById('query').value;\n",
    "                if (query.length < 5) {\n",
    "                    return;\n",
    "                }\n",
    "                let result = await fetch('/autocomplete?query=' + encodeURIComponent(query));\n",
    "                let json = await result.json();\n",
    "                document.getElementById('completion').innerHTML = json.results.join('<br>') + '<br><br>' + json.knn.join('<br>') + '<br><br> time: ' + json.time;\n",
    "            }, 300);\n",
    "        }\n",
    "    </script>\n",
    "</head>\n",
    "<body>\n",
    "    <input type=\"text\" id=\"query\" onkeyup=\"complete()\" placeholder=\"Search...\" title=\"Type in a name\">\n",
    "    <p id=\"completion\"></p>\n",
    "</body>\n",
    "</html>\n",
    "'''"
   ]
  },
  {
   "cell_type": "code",
   "execution_count": 67,
   "id": "f53a0c5b",
   "metadata": {},
   "outputs": [],
   "source": [
    "from fastapi import FastAPI\n",
    "from fastapi.responses import HTMLResponse\n",
    "\n",
    "app = FastAPI()\n",
    "\n",
    "@app.get(\"/\")\n",
    "async def root():\n",
    "    return HTMLResponse(index)\n",
    "\n",
    "@app.get('/autocomplete')\n",
    "async def autocomp(query: str):\n",
    "    return do_autocomplete(query)"
   ]
  },
  {
   "cell_type": "code",
   "execution_count": 68,
   "id": "9769ec9c",
   "metadata": {},
   "outputs": [
    {
     "name": "stderr",
     "output_type": "stream",
     "text": [
      "INFO:     Started server process [1281]\n",
      "INFO:     Waiting for application startup.\n",
      "INFO:     Application startup complete.\n",
      "INFO:     Uvicorn running on http://0.0.0.0:3000 (Press CTRL+C to quit)\n"
     ]
    },
    {
     "name": "stdout",
     "output_type": "stream",
     "text": [
      "INFO:     147.235.213.96:3668 - \"GET /autocomplete?query=can%20hermione%20tim HTTP/1.1\" 200 OK\n",
      "INFO:     147.235.213.96:3680 - \"GET /autocomplete?query=can%20hermione%20time HTTP/1.1\" 200 OK\n",
      "INFO:     147.235.213.96:3680 - \"GET /autocomplete?query=can%20hermione%20 HTTP/1.1\" 200 OK\n",
      "INFO:     147.235.213.96:3680 - \"GET /autocomplete?query=how%20do%20 HTTP/1.1\" 200 OK\n",
      "INFO:     147.235.213.96:3680 - \"GET /autocomplete?query=how%20do%20you%20destroy HTTP/1.1\" 200 OK\n",
      "INFO:     147.235.213.96:3680 - \"GET /autocomplete?query=how%20do%20you%20destroy HTTP/1.1\" 200 OK\n"
     ]
    },
    {
     "name": "stderr",
     "output_type": "stream",
     "text": [
      "INFO:     Shutting down\n",
      "INFO:     Waiting for application shutdown.\n",
      "INFO:     Application shutdown complete.\n",
      "INFO:     Finished server process [1281]\n"
     ]
    }
   ],
   "source": [
    "import asyncio\n",
    "import uvicorn\n",
    "\n",
    "if __name__ == \"__main__\":\n",
    "    config = uvicorn.Config(app, host='0.0.0.0', port=3000)\n",
    "    server = uvicorn.Server(config)\n",
    "    await server.serve()"
   ]
  },
  {
   "cell_type": "code",
   "execution_count": null,
   "id": "50bba170",
   "metadata": {},
   "outputs": [],
   "source": []
  }
 ],
 "metadata": {
  "kernelspec": {
   "display_name": "Python 3 (ipykernel)",
   "language": "python",
   "name": "python3"
  },
  "language_info": {
   "codemirror_mode": {
    "name": "ipython",
    "version": 3
   },
   "file_extension": ".py",
   "mimetype": "text/x-python",
   "name": "python",
   "nbconvert_exporter": "python",
   "pygments_lexer": "ipython3",
   "version": "3.10.6"
  },
  "vscode": {
   "interpreter": {
    "hash": "916dbcbb3f70747c44a77c7bcd40155683ae19c65e1c03b4aa3499c5328201f1"
   }
  }
 },
 "nbformat": 4,
 "nbformat_minor": 5
}
