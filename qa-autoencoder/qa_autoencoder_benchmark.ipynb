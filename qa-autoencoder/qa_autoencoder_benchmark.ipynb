{
 "cells": [
  {
   "cell_type": "code",
   "execution_count": 244,
   "metadata": {},
   "outputs": [],
   "source": [
    "import torch\n",
    "\n",
    "model = torch.load('~/models/qa-autoencoder')"
   ]
  },
  {
   "cell_type": "code",
   "execution_count": 140,
   "metadata": {},
   "outputs": [],
   "source": [
    "from sentence_transformers import SentenceTransformer\n",
    "\n",
    "bi_encoder = SentenceTransformer('stsb-distilroberta-base-v2')"
   ]
  },
  {
   "cell_type": "code",
   "execution_count": 141,
   "metadata": {},
   "outputs": [],
   "source": [
    "from sentence_transformers import SentenceTransformer\n",
    "\n",
    "bi_encoder2 = SentenceTransformer('multi-qa-MiniLM-L6-cos-v1')"
   ]
  },
  {
   "cell_type": "code",
   "execution_count": 142,
   "metadata": {},
   "outputs": [
    {
     "name": "stderr",
     "output_type": "stream",
     "text": [
      "Using custom data configuration BeIR--nq-generated-queries-dabd9d2da3a7070e\n",
      "Found cached dataset json (/home/ubuntu/.cache/huggingface/datasets/BeIR___json/BeIR--nq-generated-queries-dabd9d2da3a7070e/0.0.0/0f7e3662623656454fcd2b650f34e886a7db4b9104504885bd462096cc7a9f51)\n"
     ]
    },
    {
     "data": {
      "application/vnd.jupyter.widget-view+json": {
       "model_id": "85adb50ee6c347ec99bb65bc4e58be24",
       "version_major": 2,
       "version_minor": 0
      },
      "text/plain": [
       "  0%|          | 0/1 [00:00<?, ?it/s]"
      ]
     },
     "metadata": {},
     "output_type": "display_data"
    }
   ],
   "source": [
    "from datasets import load_dataset\n",
    "\n",
    "nq_data = load_dataset('BeIR/nq-generated-queries')\n"
   ]
  },
  {
   "cell_type": "code",
   "execution_count": 143,
   "metadata": {},
   "outputs": [
    {
     "name": "stderr",
     "output_type": "stream",
     "text": [
      "Loading cached shuffled indices for dataset at /home/ubuntu/.cache/huggingface/datasets/BeIR___json/BeIR--nq-generated-queries-dabd9d2da3a7070e/0.0.0/0f7e3662623656454fcd2b650f34e886a7db4b9104504885bd462096cc7a9f51/cache-8439e9beb02bdd07.arrow\n"
     ]
    }
   ],
   "source": [
    "nq = nq_data['train'].shuffle(seed=42)"
   ]
  },
  {
   "cell_type": "code",
   "execution_count": 144,
   "metadata": {},
   "outputs": [],
   "source": [
    "queries = []\n",
    "passages = []\n",
    "titles = []\n",
    "for i in range(100):\n",
    "    queries.append(nq[i]['query'])\n",
    "    passages.append(nq[i]['text'])\n",
    "    titles.append(nq[i]['title'])"
   ]
  },
  {
   "cell_type": "code",
   "execution_count": 145,
   "metadata": {},
   "outputs": [
    {
     "data": {
      "application/vnd.jupyter.widget-view+json": {
       "model_id": "5b922eaddf884959b657135f5b7cd486",
       "version_major": 2,
       "version_minor": 0
      },
      "text/plain": [
       "Batches:   0%|          | 0/4 [00:00<?, ?it/s]"
      ]
     },
     "metadata": {},
     "output_type": "display_data"
    },
    {
     "data": {
      "application/vnd.jupyter.widget-view+json": {
       "model_id": "276a0c49e84e4679a1e450ed655217e8",
       "version_major": 2,
       "version_minor": 0
      },
      "text/plain": [
       "Batches:   0%|          | 0/4 [00:00<?, ?it/s]"
      ]
     },
     "metadata": {},
     "output_type": "display_data"
    }
   ],
   "source": [
    "corpus_embeddings1 = bi_encoder.encode(passages, convert_to_tensor=True, show_progress_bar=True)\n",
    "corpus_embeddings2 = bi_encoder2.encode(passages, convert_to_tensor=True, show_progress_bar=True)"
   ]
  },
  {
   "cell_type": "code",
   "execution_count": 245,
   "metadata": {},
   "outputs": [],
   "source": [
    "from sentence_transformers import util\n",
    "def retrieve(query, corpus_embeddings, bi_encoder, pass_through_model = False, k=10):\n",
    "    question_embedding = bi_encoder.encode(query, convert_to_tensor=True)\n",
    "    question_embedding = question_embedding.cuda()\n",
    "    if pass_through_model:\n",
    "        question_embedding = model(question_embedding)\n",
    "    bi_encoder_hits = util.semantic_search(question_embedding, corpus_embeddings, top_k=k)\n",
    "    \n",
    "    bi_encoder_hits = bi_encoder_hits[0]  # Get the hits for the first query\n",
    "    return [hit['corpus_id'] for hit in bi_encoder_hits]"
   ]
  },
  {
   "cell_type": "code",
   "execution_count": 246,
   "metadata": {},
   "outputs": [],
   "source": [
    "import random\n",
    "\n",
    "recall = sum([\n",
    "    1\n",
    "    for i, query in enumerate(queries)\n",
    "    if\n",
    "    i in retrieve(query, corpus_embeddings1, bi_encoder, pass_through_model=True, k=10)\n",
    "    # i in random.sample(range(100), 10)\n",
    "    ])"
   ]
  },
  {
   "cell_type": "code",
   "execution_count": 247,
   "metadata": {},
   "outputs": [
    {
     "name": "stdout",
     "output_type": "stream",
     "text": [
      "Accuracy:  0.13\n"
     ]
    }
   ],
   "source": [
    "print('Accuracy: ', recall / 100)"
   ]
  },
  {
   "cell_type": "code",
   "execution_count": 149,
   "metadata": {},
   "outputs": [
    {
     "name": "stdout",
     "output_type": "stream",
     "text": [
      "who sang the song in gunfight at the corral?\n",
      "Source: U.S. Census Bureau, 2006[40]\n",
      "On 14 April, the United Nations Security Council adopted a resolution placing sanctions on Abdul-Malik al-Houthi and Ahmed Ali Saleh, establishing an arms embargo on the Houthis, and calling on the Houthis to quit Sana'a and other areas they seized.[372] The Houthis condemned the UN resolution and called for mass protests.[373]\n",
      "The launch patch for Spirit, featuring Marvin the Martian\n",
      "5250.02005 3â€“0\n",
      "The energy needed to damage most electronic devices[specify] is between 2 and 1000 nanojoules.[25]\n",
      "Our tank roars there in the storm's wind. (x2)\n",
      "Examples[18] of socratic questions are:\n",
      "Pasar Seni (Central Market) Kuala Lumpur (exterior)\n",
      "The regiment's battle honours were as follows:[1]\n",
      "Jose is the English transliteration of the Hebrew and Aramaic name Yose, which is etymologically linked to Yosef or Joseph. The name was popular during the Mishnaic and Talmudic periods.\n"
     ]
    }
   ],
   "source": [
    "i = 1\n",
    "print(queries[i])\n",
    "for id in retrieve(queries[i], corpus_embeddings1, bi_encoder, pass_through_model=True, k=10):\n",
    "    print(passages[id])"
   ]
  },
  {
   "cell_type": "code",
   "execution_count": null,
   "metadata": {},
   "outputs": [],
   "source": []
  }
 ],
 "metadata": {
  "kernelspec": {
   "display_name": "Python 3 (ipykernel)",
   "language": "python",
   "name": "python3"
  },
  "language_info": {
   "codemirror_mode": {
    "name": "ipython",
    "version": 3
   },
   "file_extension": ".py",
   "mimetype": "text/x-python",
   "name": "python",
   "nbconvert_exporter": "python",
   "pygments_lexer": "ipython3",
   "version": "3.10.6"
  },
  "orig_nbformat": 4
 },
 "nbformat": 4,
 "nbformat_minor": 2
}
