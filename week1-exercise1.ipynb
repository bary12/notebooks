{
 "cells": [
  {
   "cell_type": "code",
   "execution_count": 1,
   "id": "6fb6ce97-82cb-4f72-8084-f27d85977048",
   "metadata": {},
   "outputs": [],
   "source": [
    "from Bio.Seq import Seq"
   ]
  },
  {
   "cell_type": "code",
   "execution_count": 2,
   "id": "ca51fd32-9475-441d-8641-d637b3dfd276",
   "metadata": {},
   "outputs": [],
   "source": [
    "seq = Seq('tgatacaataagtaaaggaaggaatccttgaactactaactcacagatttattcgcaatacagaatatataacagctagttacttggttgccagatggatttaaaatattctctcctttcagtctacatctcaaatgactcagtatccaaagagaagtctgcattaatttagaatttcctagaatcagaataaatgagtgggcagaaggatacatgagtccagtaataataccaataatgtcaaccagtttactgtgatgcttctgagcaatccatgataaaagaagagacaggaaatatatagaatagagcaagaggaaggagaccataattctcaaagcatttgtgtgggccttggtgctagggtctccatgtcctctggaactgagctgcatcttccggagatgtttccacaaggagaagattagcaggagaaaagaaatcgaggccaatgaaaatggtattacagagaatatagtcaagttgaaaagaatcagctctgtaaaccttgcaaagtcagtttccatggaatcctcacttgtgtttcctccatatcgatagggcctctcttcaagagtcctttgcgtcaggattccaggcaagaacaccaagcttgccaacaacatccccacaatcacttgtttaagtctccatttcaaatacaggaagatcttccaggagcagttagctattctgagtaagtaaaagatgctgagagctgtggcaaaccagaggctgaagtgactagaaaggatccaggtaaaataaagaatttgtaatttcattccaattgcaaatgaagatggaccatatacacttgtaaaccaagtatatatttcccagatgagagtgattcttgaaattgccaatgtaagaagaattttatcaattgtggaaagttttcgtttaatgacccagtcccagaagtttgacaacactataaatccattgctcagattcccaaaaatgaactccacatgtattagtagagtggcaaagctgtaaatgacaggttccatgatcttagaaagcttgagatataacagtgctgctcattactggatcaccaaatggtccatgagttatccactgtgcagataattcttt')"
   ]
  },
  {
   "cell_type": "code",
   "execution_count": 6,
   "id": "782f542a-d2f2-4adc-a253-223df9b3bb3b",
   "metadata": {},
   "outputs": [
    {
     "name": "stdout",
     "output_type": "stream",
     "text": [
      "SKGRNP\n",
      "SYLVARWI\n",
      "SLHLK\n",
      "SIQREVCINLEFPRIRINEWAEGYMSPVIIPIMSTSLL\n",
      "SLH\n",
      "SGQKDT\n",
      "SPVIIPIMSTSLL\n",
      "SNNTNNVNQFTVMLLSNP\n",
      "SLL\n",
      "SQVEKNQLCKPCKVSFHGILTCVSSISIGPLFKSPLRQDSRQEHQACQQHPHNHLFKSPFQIQEDLPGAVSYSE\n",
      "S\n",
      "SQFPWNPHLCFLHIDRASLQESFASGFQARTPSLPTTSPQSLV\n",
      "SFHGILTCVSSISIGPLFKSPLRQDSRQEHQACQQHPHNHLFKSPFQIQEDLPGAVSYSE\n",
      "SPLRQDSRQEHQACQQHPHNHLFKSPFQIQEDLPGAVSYSE\n",
      "SLHFKYRKIFQEQLAILSK\n",
      "S\n",
      "SK\n",
      "SKRC\n",
      "SD\n",
      "SIYFPDESDS\n",
      "SDS\n",
      "SFRLMTQSQKFDNTINPLLRFPKMNSTCISRVAKL\n",
      "SPRSLTTL\n",
      "SLTTL\n",
      "SRVAKL\n",
      "SGKAVNDRFHDLRKLEI\n",
      "SAAHYWITKWSMSYPLCR\n",
      "SYPLCR\n"
     ]
    },
    {
     "name": "stderr",
     "output_type": "stream",
     "text": [
      "/home/bary/.local/lib/python3.8/site-packages/Bio/Seq.py:2979: BiopythonWarning: Partial codon, len(sequence) not a multiple of three. Explicitly trim the sequence or add trailing N before translation. This may become an error in future.\n",
      "  warnings.warn(\n"
     ]
    }
   ],
   "source": [
    "for i in range(len(seq)):\n",
    "    p_seq = seq[i:]\n",
    "    if p_seq.startswith('agt'):\n",
    "        print(p_seq.translate(to_stop=True))"
   ]
  },
  {
   "cell_type": "code",
   "execution_count": 8,
   "id": "c7d03ed7-8823-4691-86b7-1a4807648b01",
   "metadata": {},
   "outputs": [
    {
     "data": {
      "text/plain": [
       "\u001b[0;31mSignature:\u001b[0m\n",
       "\u001b[0mseq\u001b[0m\u001b[0;34m.\u001b[0m\u001b[0mtranslate\u001b[0m\u001b[0;34m(\u001b[0m\u001b[0;34m\u001b[0m\n",
       "\u001b[0;34m\u001b[0m    \u001b[0mtable\u001b[0m\u001b[0;34m=\u001b[0m\u001b[0;34m'Standard'\u001b[0m\u001b[0;34m,\u001b[0m\u001b[0;34m\u001b[0m\n",
       "\u001b[0;34m\u001b[0m    \u001b[0mstop_symbol\u001b[0m\u001b[0;34m=\u001b[0m\u001b[0;34m'*'\u001b[0m\u001b[0;34m,\u001b[0m\u001b[0;34m\u001b[0m\n",
       "\u001b[0;34m\u001b[0m    \u001b[0mto_stop\u001b[0m\u001b[0;34m=\u001b[0m\u001b[0;32mFalse\u001b[0m\u001b[0;34m,\u001b[0m\u001b[0;34m\u001b[0m\n",
       "\u001b[0;34m\u001b[0m    \u001b[0mcds\u001b[0m\u001b[0;34m=\u001b[0m\u001b[0;32mFalse\u001b[0m\u001b[0;34m,\u001b[0m\u001b[0;34m\u001b[0m\n",
       "\u001b[0;34m\u001b[0m    \u001b[0mgap\u001b[0m\u001b[0;34m=\u001b[0m\u001b[0;34m'-'\u001b[0m\u001b[0;34m,\u001b[0m\u001b[0;34m\u001b[0m\n",
       "\u001b[0;34m\u001b[0m\u001b[0;34m)\u001b[0m\u001b[0;34m\u001b[0m\u001b[0;34m\u001b[0m\u001b[0m\n",
       "\u001b[0;31mDocstring:\u001b[0m\n",
       "Turn a nucleotide sequence into a protein sequence by creating a new sequence object.\n",
       "\n",
       "This method will translate DNA or RNA sequences. It should not\n",
       "be used on protein sequences as any result will be biologically\n",
       "meaningless.\n",
       "\n",
       "Arguments:\n",
       " - table - Which codon table to use?  This can be either a name\n",
       "   (string), an NCBI identifier (integer), or a CodonTable\n",
       "   object (useful for non-standard genetic codes).  This\n",
       "   defaults to the \"Standard\" table.\n",
       " - stop_symbol - Single character string, what to use for\n",
       "   terminators.  This defaults to the asterisk, \"*\".\n",
       " - to_stop - Boolean, defaults to False meaning do a full\n",
       "   translation continuing on past any stop codons (translated as the\n",
       "   specified stop_symbol).  If True, translation is terminated at\n",
       "   the first in frame stop codon (and the stop_symbol is not\n",
       "   appended to the returned protein sequence).\n",
       " - cds - Boolean, indicates this is a complete CDS.  If True,\n",
       "   this checks the sequence starts with a valid alternative start\n",
       "   codon (which will be translated as methionine, M), that the\n",
       "   sequence length is a multiple of three, and that there is a\n",
       "   single in frame stop codon at the end (this will be excluded\n",
       "   from the protein sequence, regardless of the to_stop option).\n",
       "   If these tests fail, an exception is raised.\n",
       " - gap - Single character string to denote symbol used for gaps.\n",
       "   Defaults to the minus sign.\n",
       "\n",
       "A ``Seq`` object is returned if ``translate`` is called on a ``Seq``\n",
       "object; a ``MutableSeq`` object is returned if ``translate`` is called\n",
       "pn a ``MutableSeq`` object.\n",
       "\n",
       "e.g. Using the standard table:\n",
       "\n",
       ">>> coding_dna = Seq(\"GTGGCCATTGTAATGGGCCGCTGAAAGGGTGCCCGATAG\")\n",
       ">>> coding_dna.translate()\n",
       "Seq('VAIVMGR*KGAR*')\n",
       ">>> coding_dna.translate(stop_symbol=\"@\")\n",
       "Seq('VAIVMGR@KGAR@')\n",
       ">>> coding_dna.translate(to_stop=True)\n",
       "Seq('VAIVMGR')\n",
       "\n",
       "Now using NCBI table 2, where TGA is not a stop codon:\n",
       "\n",
       ">>> coding_dna.translate(table=2)\n",
       "Seq('VAIVMGRWKGAR*')\n",
       ">>> coding_dna.translate(table=2, to_stop=True)\n",
       "Seq('VAIVMGRWKGAR')\n",
       "\n",
       "In fact, GTG is an alternative start codon under NCBI table 2, meaning\n",
       "this sequence could be a complete CDS:\n",
       "\n",
       ">>> coding_dna.translate(table=2, cds=True)\n",
       "Seq('MAIVMGRWKGAR')\n",
       "\n",
       "It isn't a valid CDS under NCBI table 1, due to both the start codon\n",
       "and also the in frame stop codons:\n",
       "\n",
       ">>> coding_dna.translate(table=1, cds=True)\n",
       "Traceback (most recent call last):\n",
       "    ...\n",
       "Bio.Data.CodonTable.TranslationError: First codon 'GTG' is not a start codon\n",
       "\n",
       "If the sequence has no in-frame stop codon, then the to_stop argument\n",
       "has no effect:\n",
       "\n",
       ">>> coding_dna2 = Seq(\"TTGGCCATTGTAATGGGCCGC\")\n",
       ">>> coding_dna2.translate()\n",
       "Seq('LAIVMGR')\n",
       ">>> coding_dna2.translate(to_stop=True)\n",
       "Seq('LAIVMGR')\n",
       "\n",
       "NOTE - Ambiguous codons like \"TAN\" or \"NNN\" could be an amino acid\n",
       "or a stop codon.  These are translated as \"X\".  Any invalid codon\n",
       "(e.g. \"TA?\" or \"T-A\") will throw a TranslationError.\n",
       "\n",
       "NOTE - This does NOT behave like the python string's translate\n",
       "method.  For that use str(my_seq).translate(...) instead\n",
       "\u001b[0;31mFile:\u001b[0m      ~/.local/lib/python3.8/site-packages/Bio/Seq.py\n",
       "\u001b[0;31mType:\u001b[0m      method\n"
      ]
     },
     "metadata": {},
     "output_type": "display_data"
    }
   ],
   "source": [
    "seq.translate?"
   ]
  }
 ],
 "metadata": {
  "kernelspec": {
   "display_name": "Python 3 (ipykernel)",
   "language": "python",
   "name": "python3"
  },
  "language_info": {
   "codemirror_mode": {
    "name": "ipython",
    "version": 3
   },
   "file_extension": ".py",
   "mimetype": "text/x-python",
   "name": "python",
   "nbconvert_exporter": "python",
   "pygments_lexer": "ipython3",
   "version": "3.8.10"
  }
 },
 "nbformat": 4,
 "nbformat_minor": 5
}
